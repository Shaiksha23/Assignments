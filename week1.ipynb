{
  "nbformat": 4,
  "nbformat_minor": 0,
  "metadata": {
    "colab": {
      "provenance": [],
      "authorship_tag": "ABX9TyPnIJ9Mh7gEtnUcew5TUpVM",
      "include_colab_link": true
    },
    "kernelspec": {
      "name": "python3",
      "display_name": "Python 3"
    },
    "language_info": {
      "name": "python"
    }
  },
  "cells": [
    {
      "cell_type": "markdown",
      "metadata": {
        "id": "view-in-github",
        "colab_type": "text"
      },
      "source": [
        "<a href=\"https://colab.research.google.com/github/Shaiksha23/Assignments/blob/main/week1.ipynb\" target=\"_parent\"><img src=\"https://colab.research.google.com/assets/colab-badge.svg\" alt=\"Open In Colab\"/></a>"
      ]
    },
    {
      "cell_type": "markdown",
      "source": [
        "Q1. Create one variable containing following type of data:\n",
        "(i) string\n",
        "(ii) list\n",
        "(iii) float\n",
        "(iv) tuple"
      ],
      "metadata": {
        "id": "Uy3wEsWHfYM5"
      }
    },
    {
      "cell_type": "code",
      "execution_count": null,
      "metadata": {
        "id": "GsRbkkGxcKld"
      },
      "outputs": [],
      "source": [
        "my_string = 'Hello' , 'World'\n",
        "my_list = 1,2,3,4,5,6\n",
        "my_float = 3.14,2.44\n",
        "my_tuple = (10,20,30)"
      ]
    },
    {
      "cell_type": "markdown",
      "source": [
        "Q2. Given are some following variables containing data:\n",
        "(i) var1 = ‘ ‘\n",
        "(ii) var2 = ‘[ DS , ML , Python]’\n",
        "(iii) var3 = [ ‘DS’ , ’ML’ , ‘Python’ ]\n",
        "(iv) var4 = 1.\n",
        "What will be the data type of the above given variable."
      ],
      "metadata": {
        "id": "9FZMKKMDfi-4"
      }
    },
    {
      "cell_type": "code",
      "source": [],
      "metadata": {
        "id": "L0av2HM9cbWx"
      },
      "execution_count": null,
      "outputs": []
    },
    {
      "cell_type": "markdown",
      "source": [
        "Q3. Explain the use of the following operators using an example:\n",
        "(i) /\n",
        "(ii) %\n",
        "(iii) //\n",
        "(iv) **"
      ],
      "metadata": {
        "id": "W9qjCeTmhAnE"
      }
    },
    {
      "cell_type": "code",
      "source": [
        "print(10/8)\n",
        "print(10%8)\n",
        "print(10//8)\n",
        "print(10**8)\n"
      ],
      "metadata": {
        "colab": {
          "base_uri": "https://localhost:8080/"
        },
        "id": "XbEXHRwJhQjk",
        "outputId": "4c2aa96c-3c88-4537-9016-1420b320d1e0"
      },
      "execution_count": 18,
      "outputs": [
        {
          "output_type": "stream",
          "name": "stdout",
          "text": [
            "1.25\n",
            "2\n",
            "1\n",
            "100000000\n"
          ]
        }
      ]
    },
    {
      "cell_type": "markdown",
      "source": [
        "Q4. Create a list of length 10 of your choice containing multiple types of data. Using for loop print the\n",
        "element and its data type."
      ],
      "metadata": {
        "id": "ShR9k3mkhte6"
      }
    },
    {
      "cell_type": "code",
      "source": [
        "list = ['hi','23','hello','46','Nani','lakki','23.00','bhavi','46.00','monkeys']\n",
        "for i in list:\n",
        "  print( i ,' : ', type(i) )"
      ],
      "metadata": {
        "colab": {
          "base_uri": "https://localhost:8080/"
        },
        "id": "NUpaGS8Mi69k",
        "outputId": "9c11a8ab-c15b-44e2-d05b-37d8ba071d9d"
      },
      "execution_count": 19,
      "outputs": [
        {
          "output_type": "stream",
          "name": "stdout",
          "text": [
            "hi  :  <class 'str'>\n",
            "23  :  <class 'str'>\n",
            "hello  :  <class 'str'>\n",
            "46  :  <class 'str'>\n",
            "Nani  :  <class 'str'>\n",
            "lakki  :  <class 'str'>\n",
            "23.00  :  <class 'str'>\n",
            "bhavi  :  <class 'str'>\n",
            "46.00  :  <class 'str'>\n",
            "monkeys  :  <class 'str'>\n"
          ]
        }
      ]
    },
    {
      "cell_type": "markdown",
      "source": [
        "Q5. Using a while loop, verify if the number A is purely divisible by number B and if so then how many\n",
        "times it can be divisible."
      ],
      "metadata": {
        "id": "daFGmJZCiytZ"
      }
    },
    {
      "cell_type": "code",
      "source": [
        "a = int(input(\"Enter No 1 : \"))\n",
        "b = int(input(\"Enter No 2 : \"))\n",
        "count = 0\n",
        "while a%b==0:\n",
        "  a = a//b\n",
        "  count+=1\n",
        "if a==1:\n",
        "  print(\" A is divisible by B ,count is:\",count )\n",
        "else:\n",
        "  print(\" A is not divisible by B \")\n"
      ],
      "metadata": {
        "colab": {
          "base_uri": "https://localhost:8080/"
        },
        "id": "Z2GHBqk_i3Tr",
        "outputId": "7be01e27-1a2c-4fb2-ab1f-f6441db8f842"
      },
      "execution_count": 17,
      "outputs": [
        {
          "output_type": "stream",
          "name": "stdout",
          "text": [
            "Enter No 1 : 8\n",
            "Enter No 2 : 2\n",
            " A is divisible by B ,count is: 3\n"
          ]
        }
      ]
    },
    {
      "cell_type": "markdown",
      "source": [
        "Q6. Create a list containing 25 int type data. Using for loop and if-else condition print if the element is\n",
        "divisible by 3 or not."
      ],
      "metadata": {
        "id": "TZYftITPk_5Z"
      }
    },
    {
      "cell_type": "code",
      "source": [
        "my_list = [3,7,9,8,12,13,15,14,18,23,21,22,24,87,90,33,66,99,55,45,84,21,99,36,99]\n",
        "for i in my_list:\n",
        "  if i%3==0:\n",
        "    print( i , \" is divisible by 3 \")\n",
        "  else:\n",
        "    print( i , \" is not divisible by 3\")"
      ],
      "metadata": {
        "colab": {
          "base_uri": "https://localhost:8080/"
        },
        "id": "3Ed2XKkElEvA",
        "outputId": "d782d936-bcff-40e8-8fa2-f80a310baa37"
      },
      "execution_count": 24,
      "outputs": [
        {
          "output_type": "stream",
          "name": "stdout",
          "text": [
            "3  is divisible by 3 \n",
            "7  is not divisible by 3\n",
            "9  is divisible by 3 \n",
            "8  is not divisible by 3\n",
            "12  is divisible by 3 \n",
            "13  is not divisible by 3\n",
            "15  is divisible by 3 \n",
            "14  is not divisible by 3\n",
            "18  is divisible by 3 \n",
            "23  is not divisible by 3\n",
            "21  is divisible by 3 \n",
            "22  is not divisible by 3\n",
            "24  is divisible by 3 \n",
            "87  is divisible by 3 \n",
            "90  is divisible by 3 \n",
            "33  is divisible by 3 \n",
            "66  is divisible by 3 \n",
            "99  is divisible by 3 \n",
            "55  is not divisible by 3\n",
            "45  is divisible by 3 \n",
            "84  is divisible by 3 \n",
            "21  is divisible by 3 \n",
            "99  is divisible by 3 \n",
            "36  is divisible by 3 \n",
            "99  is divisible by 3 \n"
          ]
        }
      ]
    },
    {
      "cell_type": "markdown",
      "source": [
        "Q7. What do you understand about mutable and immutable data types? Give examples for both showing\n",
        "this property."
      ],
      "metadata": {
        "id": "dgLGvEjumuSt"
      }
    },
    {
      "cell_type": "code",
      "source": [
        "#mutable=it can be changed\n",
        "my_list=[10,20,30]\n",
        "my_list.append(40)"
      ],
      "metadata": {
        "id": "wKSY_9Yqm32x"
      },
      "execution_count": 26,
      "outputs": []
    },
    {
      "cell_type": "code",
      "source": [
        "#imuttable:it can't be changed\n",
        "my_str=\"Nani\"\n",
        "my_str+=\"shaiksha\""
      ],
      "metadata": {
        "id": "kUKRh2Fjn8dF"
      },
      "execution_count": 27,
      "outputs": []
    }
  ]
}